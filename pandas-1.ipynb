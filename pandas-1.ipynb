{
 "cells": [
  {
   "cell_type": "code",
   "execution_count": 25,
   "metadata": {},
   "outputs": [],
   "source": [
    "import pandas as pd\n",
    "import matplotlib.pyplot as plt"
   ]
  },
  {
   "cell_type": "code",
   "execution_count": 26,
   "metadata": {},
   "outputs": [
    {
     "name": "stdout",
     "output_type": "stream",
     "text": [
      "0    1\n",
      "1    2\n",
      "2    3\n",
      "3    4\n",
      "4    5\n",
      "dtype: int64\n"
     ]
    }
   ],
   "source": [
    "data = pd.Series([1, 2, 3, 4, 5])\n",
    "print(data)"
   ]
  },
  {
   "cell_type": "code",
   "execution_count": 27,
   "metadata": {},
   "outputs": [
    {
     "name": "stdout",
     "output_type": "stream",
     "text": [
      "    Name  Location  Age\n",
      "0   John  New York   24\n",
      "1   Anna     Paris   13\n",
      "2  Peter    Berlin   53\n",
      "3  Linda    London   33\n"
     ]
    }
   ],
   "source": [
    "data = {\n",
    "    \"Name\": [\"John\", \"Anna\", \"Peter\", \"Linda\"],\n",
    "    \"Location\": [\"New York\", \"Paris\", \"Berlin\", \"London\"],\n",
    "    \"Age\": [24, 13, 53, 33]\n",
    "}\n",
    "\n",
    "df = pd.DataFrame(data)\n",
    "print(df)"
   ]
  },
  {
   "cell_type": "code",
   "execution_count": null,
   "metadata": {},
   "outputs": [],
   "source": [
    "df = pd.read_csv(\"./data/creditcard.csv.bz2\", compression=\"bz2\")"
   ]
  },
  {
   "cell_type": "code",
   "execution_count": 47,
   "metadata": {},
   "outputs": [
    {
     "data": {
      "text/html": [
       "<div>\n",
       "<style scoped>\n",
       "    .dataframe tbody tr th:only-of-type {\n",
       "        vertical-align: middle;\n",
       "    }\n",
       "\n",
       "    .dataframe tbody tr th {\n",
       "        vertical-align: top;\n",
       "    }\n",
       "\n",
       "    .dataframe thead th {\n",
       "        text-align: right;\n",
       "    }\n",
       "</style>\n",
       "<table border=\"1\" class=\"dataframe\">\n",
       "  <thead>\n",
       "    <tr style=\"text-align: right;\">\n",
       "      <th></th>\n",
       "      <th>Time</th>\n",
       "      <th>V1</th>\n",
       "      <th>V2</th>\n",
       "      <th>V3</th>\n",
       "      <th>V4</th>\n",
       "      <th>V5</th>\n",
       "      <th>V6</th>\n",
       "      <th>V7</th>\n",
       "      <th>V8</th>\n",
       "      <th>V9</th>\n",
       "      <th>...</th>\n",
       "      <th>V21</th>\n",
       "      <th>V22</th>\n",
       "      <th>V23</th>\n",
       "      <th>V24</th>\n",
       "      <th>V25</th>\n",
       "      <th>V26</th>\n",
       "      <th>V27</th>\n",
       "      <th>V28</th>\n",
       "      <th>Amount</th>\n",
       "      <th>Class</th>\n",
       "    </tr>\n",
       "  </thead>\n",
       "  <tbody>\n",
       "    <tr>\n",
       "      <th>0</th>\n",
       "      <td>0.0</td>\n",
       "      <td>-1.359807</td>\n",
       "      <td>-0.072781</td>\n",
       "      <td>2.536347</td>\n",
       "      <td>1.378155</td>\n",
       "      <td>-0.338321</td>\n",
       "      <td>0.462388</td>\n",
       "      <td>0.239599</td>\n",
       "      <td>0.098698</td>\n",
       "      <td>0.363787</td>\n",
       "      <td>...</td>\n",
       "      <td>-0.018307</td>\n",
       "      <td>0.277838</td>\n",
       "      <td>-0.110474</td>\n",
       "      <td>0.066928</td>\n",
       "      <td>0.128539</td>\n",
       "      <td>-0.189115</td>\n",
       "      <td>0.133558</td>\n",
       "      <td>-0.021053</td>\n",
       "      <td>149.62</td>\n",
       "      <td>0</td>\n",
       "    </tr>\n",
       "    <tr>\n",
       "      <th>1</th>\n",
       "      <td>0.0</td>\n",
       "      <td>1.191857</td>\n",
       "      <td>0.266151</td>\n",
       "      <td>0.166480</td>\n",
       "      <td>0.448154</td>\n",
       "      <td>0.060018</td>\n",
       "      <td>-0.082361</td>\n",
       "      <td>-0.078803</td>\n",
       "      <td>0.085102</td>\n",
       "      <td>-0.255425</td>\n",
       "      <td>...</td>\n",
       "      <td>-0.225775</td>\n",
       "      <td>-0.638672</td>\n",
       "      <td>0.101288</td>\n",
       "      <td>-0.339846</td>\n",
       "      <td>0.167170</td>\n",
       "      <td>0.125895</td>\n",
       "      <td>-0.008983</td>\n",
       "      <td>0.014724</td>\n",
       "      <td>2.69</td>\n",
       "      <td>0</td>\n",
       "    </tr>\n",
       "    <tr>\n",
       "      <th>2</th>\n",
       "      <td>1.0</td>\n",
       "      <td>-1.358354</td>\n",
       "      <td>-1.340163</td>\n",
       "      <td>1.773209</td>\n",
       "      <td>0.379780</td>\n",
       "      <td>-0.503198</td>\n",
       "      <td>1.800499</td>\n",
       "      <td>0.791461</td>\n",
       "      <td>0.247676</td>\n",
       "      <td>-1.514654</td>\n",
       "      <td>...</td>\n",
       "      <td>0.247998</td>\n",
       "      <td>0.771679</td>\n",
       "      <td>0.909412</td>\n",
       "      <td>-0.689281</td>\n",
       "      <td>-0.327642</td>\n",
       "      <td>-0.139097</td>\n",
       "      <td>-0.055353</td>\n",
       "      <td>-0.059752</td>\n",
       "      <td>378.66</td>\n",
       "      <td>0</td>\n",
       "    </tr>\n",
       "    <tr>\n",
       "      <th>3</th>\n",
       "      <td>1.0</td>\n",
       "      <td>-0.966272</td>\n",
       "      <td>-0.185226</td>\n",
       "      <td>1.792993</td>\n",
       "      <td>-0.863291</td>\n",
       "      <td>-0.010309</td>\n",
       "      <td>1.247203</td>\n",
       "      <td>0.237609</td>\n",
       "      <td>0.377436</td>\n",
       "      <td>-1.387024</td>\n",
       "      <td>...</td>\n",
       "      <td>-0.108300</td>\n",
       "      <td>0.005274</td>\n",
       "      <td>-0.190321</td>\n",
       "      <td>-1.175575</td>\n",
       "      <td>0.647376</td>\n",
       "      <td>-0.221929</td>\n",
       "      <td>0.062723</td>\n",
       "      <td>0.061458</td>\n",
       "      <td>123.50</td>\n",
       "      <td>0</td>\n",
       "    </tr>\n",
       "    <tr>\n",
       "      <th>4</th>\n",
       "      <td>2.0</td>\n",
       "      <td>-1.158233</td>\n",
       "      <td>0.877737</td>\n",
       "      <td>1.548718</td>\n",
       "      <td>0.403034</td>\n",
       "      <td>-0.407193</td>\n",
       "      <td>0.095921</td>\n",
       "      <td>0.592941</td>\n",
       "      <td>-0.270533</td>\n",
       "      <td>0.817739</td>\n",
       "      <td>...</td>\n",
       "      <td>-0.009431</td>\n",
       "      <td>0.798278</td>\n",
       "      <td>-0.137458</td>\n",
       "      <td>0.141267</td>\n",
       "      <td>-0.206010</td>\n",
       "      <td>0.502292</td>\n",
       "      <td>0.219422</td>\n",
       "      <td>0.215153</td>\n",
       "      <td>69.99</td>\n",
       "      <td>0</td>\n",
       "    </tr>\n",
       "  </tbody>\n",
       "</table>\n",
       "<p>5 rows × 31 columns</p>\n",
       "</div>"
      ],
      "text/plain": [
       "   Time        V1        V2        V3        V4        V5        V6        V7  \\\n",
       "0   0.0 -1.359807 -0.072781  2.536347  1.378155 -0.338321  0.462388  0.239599   \n",
       "1   0.0  1.191857  0.266151  0.166480  0.448154  0.060018 -0.082361 -0.078803   \n",
       "2   1.0 -1.358354 -1.340163  1.773209  0.379780 -0.503198  1.800499  0.791461   \n",
       "3   1.0 -0.966272 -0.185226  1.792993 -0.863291 -0.010309  1.247203  0.237609   \n",
       "4   2.0 -1.158233  0.877737  1.548718  0.403034 -0.407193  0.095921  0.592941   \n",
       "\n",
       "         V8        V9  ...       V21       V22       V23       V24       V25  \\\n",
       "0  0.098698  0.363787  ... -0.018307  0.277838 -0.110474  0.066928  0.128539   \n",
       "1  0.085102 -0.255425  ... -0.225775 -0.638672  0.101288 -0.339846  0.167170   \n",
       "2  0.247676 -1.514654  ...  0.247998  0.771679  0.909412 -0.689281 -0.327642   \n",
       "3  0.377436 -1.387024  ... -0.108300  0.005274 -0.190321 -1.175575  0.647376   \n",
       "4 -0.270533  0.817739  ... -0.009431  0.798278 -0.137458  0.141267 -0.206010   \n",
       "\n",
       "        V26       V27       V28  Amount  Class  \n",
       "0 -0.189115  0.133558 -0.021053  149.62      0  \n",
       "1  0.125895 -0.008983  0.014724    2.69      0  \n",
       "2 -0.139097 -0.055353 -0.059752  378.66      0  \n",
       "3 -0.221929  0.062723  0.061458  123.50      0  \n",
       "4  0.502292  0.219422  0.215153   69.99      0  \n",
       "\n",
       "[5 rows x 31 columns]"
      ]
     },
     "execution_count": 47,
     "metadata": {},
     "output_type": "execute_result"
    }
   ],
   "source": [
    "df.head()"
   ]
  },
  {
   "cell_type": "code",
   "execution_count": 48,
   "metadata": {},
   "outputs": [
    {
     "name": "stdout",
     "output_type": "stream",
     "text": [
      "<class 'pandas.core.frame.DataFrame'>\n",
      "RangeIndex: 284807 entries, 0 to 284806\n",
      "Data columns (total 31 columns):\n",
      " #   Column  Non-Null Count   Dtype  \n",
      "---  ------  --------------   -----  \n",
      " 0   Time    284807 non-null  float64\n",
      " 1   V1      284807 non-null  float64\n",
      " 2   V2      284807 non-null  float64\n",
      " 3   V3      284807 non-null  float64\n",
      " 4   V4      284807 non-null  float64\n",
      " 5   V5      284807 non-null  float64\n",
      " 6   V6      284807 non-null  float64\n",
      " 7   V7      284807 non-null  float64\n",
      " 8   V8      284807 non-null  float64\n",
      " 9   V9      284807 non-null  float64\n",
      " 10  V10     284807 non-null  float64\n",
      " 11  V11     284807 non-null  float64\n",
      " 12  V12     284807 non-null  float64\n",
      " 13  V13     284807 non-null  float64\n",
      " 14  V14     284807 non-null  float64\n",
      " 15  V15     284807 non-null  float64\n",
      " 16  V16     284807 non-null  float64\n",
      " 17  V17     284807 non-null  float64\n",
      " 18  V18     284807 non-null  float64\n",
      " 19  V19     284807 non-null  float64\n",
      " 20  V20     284807 non-null  float64\n",
      " 21  V21     284807 non-null  float64\n",
      " 22  V22     284807 non-null  float64\n",
      " 23  V23     284807 non-null  float64\n",
      " 24  V24     284807 non-null  float64\n",
      " 25  V25     284807 non-null  float64\n",
      " 26  V26     284807 non-null  float64\n",
      " 27  V27     284807 non-null  float64\n",
      " 28  V28     284807 non-null  float64\n",
      " 29  Amount  284807 non-null  float64\n",
      " 30  Class   284807 non-null  int64  \n",
      "dtypes: float64(30), int64(1)\n",
      "memory usage: 67.4 MB\n"
     ]
    }
   ],
   "source": [
    "df.info()"
   ]
  },
  {
   "cell_type": "code",
   "execution_count": null,
   "metadata": {},
   "outputs": [
    {
     "name": "stdout",
     "output_type": "stream",
     "text": [
      "            Time  Amount  Class\n",
      "0            0.0  149.62      0\n",
      "1            0.0    2.69      0\n",
      "2            1.0  378.66      0\n",
      "3            1.0  123.50      0\n",
      "4            2.0   69.99      0\n",
      "...          ...     ...    ...\n",
      "284802  172786.0    0.77      0\n",
      "284803  172787.0   24.79      0\n",
      "284804  172788.0   67.88      0\n",
      "284805  172788.0   10.00      0\n",
      "284806  172792.0  217.00      0\n",
      "\n",
      "[284807 rows x 3 columns]\n"
     ]
    }
   ],
   "source": [
    "df.columns\n",
    "\n",
    "df_subset = df[['Time', 'Amount', 'Class']]\n",
    "print(df_subset)"
   ]
  },
  {
   "cell_type": "code",
   "execution_count": 51,
   "metadata": {},
   "outputs": [
    {
     "name": "stdout",
     "output_type": "stream",
     "text": [
      "count    284807.000000\n",
      "mean         88.349619\n",
      "std         250.120109\n",
      "min           0.000000\n",
      "25%           5.600000\n",
      "50%          22.000000\n",
      "75%          77.165000\n",
      "max       25691.160000\n",
      "Name: Amount, dtype: float64\n"
     ]
    }
   ],
   "source": [
    "print(df[\"Amount\"].describe())"
   ]
  },
  {
   "cell_type": "code",
   "execution_count": 53,
   "metadata": {},
   "outputs": [
    {
     "name": "stdout",
     "output_type": "stream",
     "text": [
      "0    149.62\n",
      "1      2.69\n",
      "2    378.66\n",
      "3    123.50\n",
      "4     69.99\n",
      "Name: Amount, dtype: float64\n",
      "Time        0.000000\n",
      "V1         -1.359807\n",
      "V2         -0.072781\n",
      "V3          2.536347\n",
      "V4          1.378155\n",
      "V5         -0.338321\n",
      "V6          0.462388\n",
      "V7          0.239599\n",
      "V8          0.098698\n",
      "V9          0.363787\n",
      "V10         0.090794\n",
      "V11        -0.551600\n",
      "V12        -0.617801\n",
      "V13        -0.991390\n",
      "V14        -0.311169\n",
      "V15         1.468177\n",
      "V16        -0.470401\n",
      "V17         0.207971\n",
      "V18         0.025791\n",
      "V19         0.403993\n",
      "V20         0.251412\n",
      "V21        -0.018307\n",
      "V22         0.277838\n",
      "V23        -0.110474\n",
      "V24         0.066928\n",
      "V25         0.128539\n",
      "V26        -0.189115\n",
      "V27         0.133558\n",
      "V28        -0.021053\n",
      "Amount    149.620000\n",
      "Class       0.000000\n",
      "Name: 0, dtype: float64\n"
     ]
    }
   ],
   "source": [
    "betragswerte = df[\"Amount\"]\n",
    "print(betragswerte.head())\n",
    "\n",
    "erste_zeile = df.iloc[0]\n",
    "print(erste_zeile)"
   ]
  },
  {
   "cell_type": "code",
   "execution_count": 56,
   "metadata": {},
   "outputs": [
    {
     "name": "stdout",
     "output_type": "stream",
     "text": [
      "        Time        V1        V2        V3        V4        V5        V6  \\\n",
      "541    406.0 -2.312227  1.951992 -1.609851  3.997906 -0.522188 -1.426545   \n",
      "623    472.0 -3.043541 -3.157307  1.088463  2.288644  1.359805 -1.064823   \n",
      "4920  4462.0 -2.303350  1.759247 -0.359745  2.330243 -0.821628 -0.075788   \n",
      "6108  6986.0 -4.397974  1.358367 -2.592844  2.679787 -1.128131 -1.706536   \n",
      "6329  7519.0  1.234235  3.019740 -4.304597  4.732795  3.624201 -1.357746   \n",
      "\n",
      "            V7        V8        V9  ...       V21       V22       V23  \\\n",
      "541  -2.537387  1.391657 -2.770089  ...  0.517232 -0.035049 -0.465211   \n",
      "623   0.325574 -0.067794 -0.270953  ...  0.661696  0.435477  1.375966   \n",
      "4920  0.562320 -0.399147 -0.238253  ... -0.294166 -0.932391  0.172726   \n",
      "6108 -3.496197 -0.248778 -0.247768  ...  0.573574  0.176968 -0.436207   \n",
      "6329  1.713445 -0.496358 -1.282858  ... -0.379068 -0.704181 -0.656805   \n",
      "\n",
      "           V24       V25       V26       V27       V28  Amount  Class  \n",
      "541   0.320198  0.044519  0.177840  0.261145 -0.143276    0.00      1  \n",
      "623  -0.293803  0.279798 -0.145362 -0.252773  0.035764  529.00      1  \n",
      "4920 -0.087330 -0.156114 -0.542628  0.039566 -0.153029  239.93      1  \n",
      "6108 -0.053502  0.252405 -0.657488 -0.827136  0.849573   59.00      1  \n",
      "6329 -1.632653  1.488901  0.566797 -0.010016  0.146793    1.00      1  \n",
      "\n",
      "[5 rows x 31 columns]\n"
     ]
    }
   ],
   "source": [
    "betrug = df[df[\"Class\"] == 1]\n",
    "print(betrug.head())"
   ]
  },
  {
   "cell_type": "code",
   "execution_count": 60,
   "metadata": {},
   "outputs": [
    {
     "name": "stdout",
     "output_type": "stream",
     "text": [
      "   Amount Category\n",
      "0  149.62     High\n",
      "1    2.69      Low\n",
      "2  378.66     High\n",
      "3  123.50     High\n",
      "4   69.99      Low\n"
     ]
    }
   ],
   "source": [
    "df[\"Category\"] = df[\"Amount\"].apply(lambda x: \"High\" if x > 100 else \"Low\")\n",
    "print(df[[\"Amount\", \"Category\"]].head())"
   ]
  },
  {
   "cell_type": "code",
   "execution_count": 62,
   "metadata": {},
   "outputs": [
    {
     "name": "stdout",
     "output_type": "stream",
     "text": [
      "          Amount Category\n",
      "274771  25691.16     High\n",
      "58465   19656.53     High\n",
      "151296  18910.00     High\n",
      "46841   12910.93     High\n",
      "54018   11898.09     High\n",
      "...          ...      ...\n",
      "221148      0.00      Low\n",
      "245522      0.00      Low\n",
      "272606      0.00      Low\n",
      "1876        0.00      Low\n",
      "98473       0.00      Low\n",
      "\n",
      "[284807 rows x 2 columns]\n"
     ]
    }
   ],
   "source": [
    "df_sortiert = df.sort_values(by=\"Amount\", ascending=False)\n",
    "print(df_sortiert[[\"Amount\", \"Category\"]])"
   ]
  },
  {
   "cell_type": "markdown",
   "metadata": {},
   "source": [
    "# Übungsaufgabe\n",
    "\n",
    "### Übungsaufgabe 1: Erste Schritte mit dem DataFrame\n",
    "\n",
    "**Ziel**: Die Teilnehmer lernen, den DataFrame zu laden, grundlegende Informationen abzurufen und die Struktur der Daten zu verstehen.\n",
    "\n",
    "1. Laden Sie die CSV-Datei `creditcard.csv` in einen DataFrame und zeigen Sie die Struktur der Daten an, einschließlich der Spaltennamen und Datentypen.\n",
    "2. Zeigen Sie die ersten zehn Zeilen des DataFrames an, um einen Überblick über die Daten zu erhalten.\n",
    "3. Filtern Sie den DataFrame so, dass nur die Spalten `Time`, `Amount` und `Class` angezeigt werden. Speichern Sie diese Spalten in einem neuen DataFrame namens `df_subset`.\n",
    "\n",
    "**Hinweis**: Verwenden Sie die Methoden `pd.read_csv()`, `df.info()`, `df.head()` und `df[[\"Time\", \"Amount\", \"Class\"]]`, um die Aufgaben zu lösen.\n",
    "\n",
    "---\n",
    "\n",
    "### Übungsaufgabe 2: Statistische Analyse und Datenfilterung\n",
    "\n",
    "**Ziel**: Die Teilnehmer üben, statistische Analysen auf einzelne Spalten anzuwenden und Daten anhand von Bedingungen zu filtern.\n",
    "\n",
    "1. Verwenden Sie den DataFrame und geben Sie eine statistische Zusammenfassung der Spalte `Amount` aus, um sich einen Überblick über die Transaktionsbeträge zu verschaffen.\n",
    "2. Filtern Sie den DataFrame so, dass nur Transaktionen mit einem Betrag (`Amount`) von mehr als 200 angezeigt werden. Speichern Sie das Ergebnis in einem neuen DataFrame namens `df_hoch`.\n",
    "3. Zeigen Sie die ersten fünf Zeilen von `df_hoch` an, um die gefilterten Daten zu überprüfen.\n",
    "\n",
    "**Hinweis**: Verwenden Sie die Methoden `describe()` und Filtrierungstechniken wie `df[df[\"Amount\"] > 200]`, um die Aufgaben zu lösen.\n",
    "\n",
    "---\n",
    "\n",
    "### Übungsaufgabe 3: Neue Spalte hinzufügen und Daten sortieren\n",
    "\n",
    "**Ziel**: Die Teilnehmer lernen, neue Informationen aus bestehenden Daten abzuleiten und die Daten nach bestimmten Kriterien zu sortieren.\n",
    "\n",
    "1. Erstellen Sie eine neue Spalte `Kategorie` im DataFrame, die wie folgt kategorisiert:\n",
    "    - Wenn der Betrag (`Amount`) größer als 100 ist, soll in der Spalte `Kategorie` der Wert `Hoch` stehen.\n",
    "    - Andernfalls soll der Wert `Niedrig` stehen.\n",
    "2. Sortieren Sie den DataFrame `df` nach der Spalte `Amount` in absteigender Reihenfolge und zeigen Sie die ersten fünf Zeilen an.\n",
    "3. Wählen Sie die Spalten `Time`, `Amount`, `Class` und `Kategorie` aus und speichern Sie diese in einem neuen DataFrame namens `df_final`.\n",
    "\n",
    "**Hinweis**: Nutzen Sie `apply()` mit einer Lambda-Funktion, um die Kategorie-Spalte zu erstellen, und verwenden Sie `sort_values(by=\"Amount\", ascending=False)` für die Sortierung.\n",
    "\n",
    "---\n",
    "\n",
    "### Ziel der Übungen:\n",
    "\n",
    "Diese Übungen helfen den Teilnehmern, die grundlegenden Funktionen von Pandas für die Datenanalyse zu verstehen. Sie lernen:\n",
    "\n",
    "- Wie sie Daten in einen DataFrame laden und grundlegende Informationen erhalten.\n",
    "- Wie sie einfache Analysen durchführen und Daten basierend auf Bedingungen filtern.\n",
    "- Wie sie neue Informationen durch die Erstellung von Kategorien hinzufügen und Daten gezielt sortieren.\n",
    "\n",
    "Durch diese praxisnahen Aufgaben können die Teilnehmer eigenständig mit Pandas arbeiten und sich auf tiefere Analysen und Manipulationen vorbereiten."
   ]
  }
 ],
 "metadata": {
  "kernelspec": {
   "display_name": ".venv",
   "language": "python",
   "name": "python3"
  },
  "language_info": {
   "codemirror_mode": {
    "name": "ipython",
    "version": 3
   },
   "file_extension": ".py",
   "mimetype": "text/x-python",
   "name": "python",
   "nbconvert_exporter": "python",
   "pygments_lexer": "ipython3",
   "version": "3.11.4"
  }
 },
 "nbformat": 4,
 "nbformat_minor": 2
}
