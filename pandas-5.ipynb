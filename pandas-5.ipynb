{
 "cells": [
  {
   "cell_type": "code",
   "execution_count": 1,
   "metadata": {},
   "outputs": [],
   "source": [
    "import pandas as pd"
   ]
  },
  {
   "cell_type": "code",
   "execution_count": 2,
   "metadata": {},
   "outputs": [
    {
     "name": "stdout",
     "output_type": "stream",
     "text": [
      "   Amount Amount_Bin\n",
      "0    10.5        Low\n",
      "1    50.2     Medium\n",
      "2    30.7        Low\n",
      "3    40.5        Low\n",
      "4    50.6     Medium\n",
      "5   100.6     Medium\n",
      "6   225.5       High\n",
      "7   300.6       High\n",
      "8   100.5     Medium\n",
      "9   200.5       High\n"
     ]
    }
   ],
   "source": [
    "data = {\n",
    "    \"Amount\": [10.5, 50.2, 30.7, 40.5, 50.6, 100.6, 225.5, 300.6, 100.5, 200.5],\n",
    "}\n",
    "\n",
    "df = pd.DataFrame(data)\n",
    "\n",
    "bins = [0, 50, 200, float('inf')]\n",
    "labels = ['Low', 'Medium', 'High']\n",
    "\n",
    "df['Amount_Bin'] = pd.cut(df['Amount'], bins=bins, labels=labels)\n",
    "print(df)"
   ]
  },
  {
   "cell_type": "code",
   "execution_count": 3,
   "metadata": {},
   "outputs": [
    {
     "name": "stdout",
     "output_type": "stream",
     "text": [
      "   Amount Amount_Bin Amount_similar\n",
      "0    10.5        Low            Low\n",
      "1    50.2     Medium            Low\n",
      "2    30.7        Low            Low\n",
      "3    40.5        Low            Low\n",
      "4    50.6     Medium            Low\n",
      "5   100.6     Medium            Low\n",
      "6   225.5       High           High\n",
      "7   300.6       High           High\n",
      "8   100.5     Medium            Low\n",
      "9   200.5       High         Medium\n"
     ]
    }
   ],
   "source": [
    "df[\"Amount_similar\"] = pd.cut(df[\"Amount\"], bins=3, labels=[\"Low\", \"Medium\", \"High\"])\n",
    "print(df)"
   ]
  },
  {
   "cell_type": "code",
   "execution_count": 4,
   "metadata": {},
   "outputs": [
    {
     "name": "stdout",
     "output_type": "stream",
     "text": [
      "   Amount Amount_Bin Amount_similar Amount_qcut\n",
      "0    10.5        Low            Low         Low\n",
      "1    50.2     Medium            Low      Medium\n",
      "2    30.7        Low            Low         Low\n",
      "3    40.5        Low            Low         Low\n",
      "4    50.6     Medium            Low      Medium\n",
      "5   100.6     Medium            Low      Medium\n",
      "6   225.5       High           High        High\n",
      "7   300.6       High           High        High\n",
      "8   100.5     Medium            Low      Medium\n",
      "9   200.5       High         Medium        High\n"
     ]
    }
   ],
   "source": [
    "df[\"Amount_qcut\"] = pd.qcut(df[\"Amount\"], q=3, labels=[\"Low\", \"Medium\", \"High\"])\n",
    "print(df)"
   ]
  },
  {
   "cell_type": "code",
   "execution_count": 5,
   "metadata": {},
   "outputs": [],
   "source": [
    "import matplotlib.pyplot as plt"
   ]
  },
  {
   "cell_type": "code",
   "execution_count": 7,
   "metadata": {},
   "outputs": [
    {
     "data": {
      "image/png": "[encoded data removed]",
      "text/plain": [
       "<Figure size 640x480 with 1 Axes>"
      ]
     },
     "metadata": {},
     "output_type": "display_data"
    }
   ],
   "source": [
    "category_count = df[\"Amount_Bin\"].value_counts()\n",
    "\n",
    "category_count.plot(kind='bar')\n",
    "plt.title('Amount Category Count')\n",
    "plt.xlabel('Category')\n",
    "plt.ylabel('Count of Transactions')\n",
    "\n",
    "plt.show()"
   ]
  }
 ],
 "metadata": {
  "kernelspec": {
   "display_name": ".venv",
   "language": "python",
   "name": "python3"
  },
  "language_info": {
   "codemirror_mode": {
    "name": "ipython",
    "version": 3
   },
   "file_extension": ".py",
   "mimetype": "text/x-python",
   "name": "python",
   "nbconvert_exporter": "python",
   "pygments_lexer": "ipython3",
   "version": "3.11.4"
  }
 },
 "nbformat": 4,
 "nbformat_minor": 2
}
