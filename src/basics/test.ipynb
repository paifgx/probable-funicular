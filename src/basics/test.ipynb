{
 "cells": [
  {
   "cell_type": "code",
   "execution_count": 1,
   "metadata": {},
   "outputs": [
    {
     "name": "stdout",
     "output_type": "stream",
     "text": [
      "{'title': 'Sapiens: A Brief History of Humankind', 'author': 'Yuval Noah Harari', 'published_year': 2011, 'genre': 'Non-fiction', 'pages': 498, 'available': True, 'location': {'section': 'History', 'shelf': 3, 'row': 5}}\n"
     ]
    }
   ],
   "source": [
    "book = {\n",
    "    \"title\": \"Sapiens: A Brief History of Humankind\",\n",
    "    \"author\": \"Yuval Noah Harari\",\n",
    "    \"published_year\": 2011,\n",
    "    \"genre\": \"Non-fiction\",\n",
    "    \"pages\": 498,\n",
    "    \"available\": True,\n",
    "    \"location\": {\n",
    "        \"section\": \"History\",\n",
    "        \"shelf\": 3,\n",
    "        \"row\": 5\n",
    "    }\n",
    "}\n",
    "\n",
    "print(book)"
   ]
  }
 ],
 "metadata": {
  "kernelspec": {
   "display_name": ".venv",
   "language": "python",
   "name": "python3"
  },
  "language_info": {
   "codemirror_mode": {
    "name": "ipython",
    "version": 3
   },
   "file_extension": ".py",
   "mimetype": "text/x-python",
   "name": "python",
   "nbconvert_exporter": "python",
   "pygments_lexer": "ipython3",
   "version": "3.11.4"
  }
 },
 "nbformat": 4,
 "nbformat_minor": 2
}
